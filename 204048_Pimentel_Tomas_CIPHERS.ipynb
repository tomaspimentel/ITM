{
 "cells": [
  {
   "cell_type": "code",
   "execution_count": 29,
   "id": "bc69acae",
   "metadata": {},
   "outputs": [
    {
     "data": {
      "text/plain": [
       "'DWWDFN DW GDQ'"
      ]
     },
     "execution_count": 29,
     "metadata": {},
     "output_type": "execute_result"
    }
   ],
   "source": [
    "def problem_1(message, shift):\n",
    "    newletter=\"\"\n",
    "    newmessage=\"\"\n",
    "    for i in message:\n",
    "        if ord(i)==32:\n",
    "            newmessage+=\" \"\n",
    "        else:\n",
    "            newletter=chr(ord(i)+shift)\n",
    "            if ord(newletter)>90:\n",
    "                while ord(newletter)>90:\n",
    "                    newletter=chr(ord(newletter)-26)\n",
    "                newmessage+=newletter\n",
    "            elif ord(newletter)<90:\n",
    "                newmessage+=newletter\n",
    "            elif ord(newletter)==32:\n",
    "                newmessage+=\"\"\n",
    "    return newmessage\n",
    "            \n",
    "problem_1(\"ATTACK AT DAWN\", 3)"
   ]
  },
  {
   "cell_type": "code",
   "execution_count": 32,
   "id": "8d9aad2d",
   "metadata": {},
   "outputs": [
    {
     "data": {
      "text/plain": [
       "'AOTSRIOALRH_EMRNGIMA_PTT'"
      ]
     },
     "execution_count": 32,
     "metadata": {},
     "output_type": "execute_result"
    }
   ],
   "source": [
    "def problem_2(message, shift):\n",
    "    newmessage=''\n",
    "    finalmessage=''\n",
    "    if len(message)%shift!=0:\n",
    "            while len(message)%shift!=0:\n",
    "                message=message+\"_\"\n",
    "            for x in range(len(message)):\n",
    "                newmessage=message[(x // shift) + (len(message) // shift) * (x % shift)]\n",
    "                finalmessage+=newmessage\n",
    "    \n",
    "    else:\n",
    "\n",
    "        for x in range(len(message)):\n",
    "            newmessage=message[(x // shift) + (len(message) // shift) * (x % shift)]\n",
    "            finalmessage+=newmessage\n",
    "    return finalmessage\n",
    "problem_2(\"ALGORITHMS_ARE_IMPORTANT\", 8)"
   ]
  },
  {
   "cell_type": "code",
   "execution_count": 75,
   "id": "cd611acc",
   "metadata": {},
   "outputs": [
    {
     "data": {
      "text/plain": [
       "'GINABL HT ETCUQ'"
      ]
     },
     "execution_count": 75,
     "metadata": {},
     "output_type": "execute_result"
    }
   ],
   "source": [
    "def problem_3(message, key):\n",
    "    newmessage=''\n",
    "    final=''\n",
    "    letter=''\n",
    "    finalmessage=''\n",
    "    numbervalue=0\n",
    "    i=0\n",
    "    y=0\n",
    "    for j in message:\n",
    "        numbervalue+=ord(j)-64\n",
    "        if i<len(key):\n",
    "            newmessage+=key[i]\n",
    "        elif i>=len(key):\n",
    "            i=0\n",
    "            newmessage+=key[i]\n",
    "        i+=1\n",
    "    for x in newmessage:\n",
    "        numbervalue=ord(message[y])-64\n",
    "        if ord(message[y])==32:\n",
    "            finalmessage+=\" \"\n",
    "        else:\n",
    "            newletter=chr(ord(x)+numbervalue-1)\n",
    "            if ord(newletter)>90:\n",
    "                while ord(newletter)>90:\n",
    "                    newletter=chr(ord(newletter)-26)\n",
    "                finalmessage+=newletter\n",
    "            elif ord(newletter)<90:\n",
    "                finalmessage+=newletter\n",
    "            elif ord(newletter)==32:\n",
    "                finalmessage+=\"\"\n",
    "        y+=1\n",
    "    return finalmessage    \n",
    "            \n",
    "    \n",
    "        \n",
    "        \n",
    "            \n",
    "            \n",
    "            \n",
    "            \n",
    "   \n",
    "problem_3(\"FOOBAR IS FUBAR\", \"BUZZ\")\n",
    "        \n",
    "        "
   ]
  },
  {
   "cell_type": "code",
   "execution_count": 79,
   "id": "746cc5e2",
   "metadata": {},
   "outputs": [
    {
     "data": {
      "text/plain": [
       "'INFORMATION_AGE'"
      ]
     },
     "execution_count": 79,
     "metadata": {},
     "output_type": "execute_result"
    }
   ],
   "source": [
    "def problem_4(message, shift):\n",
    "    newmessage=''\n",
    "    limit=(len(message)//shift)\n",
    "    for i in range(shift):\n",
    "        for x in range(limit):\n",
    "            newmessage+=message[x*shift]\n",
    "    \n",
    "        message=message.replace(message[0],\"\",1)\n",
    "    return newmessage\n",
    "        \n",
    "problem_4(\"IMNNA_FTAOIGROE\",3) "
   ]
  },
  {
   "cell_type": "code",
   "execution_count": null,
   "id": "2c3dacd8",
   "metadata": {},
   "outputs": [],
   "source": []
  },
  {
   "cell_type": "code",
   "execution_count": null,
   "id": "0b1d4d4d",
   "metadata": {},
   "outputs": [],
   "source": []
  },
  {
   "cell_type": "code",
   "execution_count": null,
   "id": "97ff4413",
   "metadata": {},
   "outputs": [],
   "source": []
  },
  {
   "cell_type": "code",
   "execution_count": null,
   "id": "ce7b805a",
   "metadata": {},
   "outputs": [],
   "source": []
  }
 ],
 "metadata": {
  "kernelspec": {
   "display_name": "Python 3",
   "language": "python",
   "name": "python3"
  },
  "language_info": {
   "codemirror_mode": {
    "name": "ipython",
    "version": 3
   },
   "file_extension": ".py",
   "mimetype": "text/x-python",
   "name": "python",
   "nbconvert_exporter": "python",
   "pygments_lexer": "ipython3",
   "version": "3.8.8"
  }
 },
 "nbformat": 4,
 "nbformat_minor": 5
}
