{
 "cells": [
  {
   "cell_type": "code",
   "execution_count": 6,
   "id": "a7bf8cbc",
   "metadata": {},
   "outputs": [
    {
     "data": {
      "text/plain": [
       "120"
      ]
     },
     "execution_count": 6,
     "metadata": {},
     "output_type": "execute_result"
    }
   ],
   "source": [
    "def problem_1(number):\n",
    "    y=1\n",
    "    for x in range(1,number+1,1):\n",
    "        if x==0:\n",
    "            x=1\n",
    "            y=y*x\n",
    "        else:\n",
    "            y=y*x\n",
    "    return y\n",
    "problem_1(5)"
   ]
  },
  {
   "cell_type": "code",
   "execution_count": null,
   "id": "b71cf0ef",
   "metadata": {},
   "outputs": [],
   "source": [
    "def problem_2(passphrase):\n",
    "    wrong_counter=0\n",
    "    while wrong_counter<3:\n",
    "        guess=input(\"What is the passphrase?\")\n",
    "        if guess==passphrase:\n",
    "            return 1\n",
    "            break\n",
    "        else:\n",
    "            wrong_counter+=1\n",
    "    if wrong_counter==3:\n",
    "        return 0\n",
    "    else:\n",
    "        return\n",
    "\n",
    "problem_2(\"secret\")\n",
    "    "
   ]
  },
  {
   "cell_type": "code",
   "execution_count": 1,
   "id": "2e34e756",
   "metadata": {},
   "outputs": [
    {
     "data": {
      "text/plain": [
       "-17.77777777777778"
      ]
     },
     "execution_count": 1,
     "metadata": {},
     "output_type": "execute_result"
    }
   ],
   "source": [
    "def problem_3(temp,original_format,new_format):\n",
    "    if original_format==\"Kelvin\":\n",
    "        if new_format==\"Celsius\":\n",
    "            temp=temp-273.15\n",
    "            \n",
    "        elif new_format==\"Farenheit\":\n",
    "            temp=(temp-273.15)*9/5+32\n",
    "            \n",
    "        else:\n",
    "            return \"Wrong format\"\n",
    "    elif original_format==\"Celsius\":\n",
    "        if new_format==\"Kelvin\":\n",
    "            temp=temp+273.15\n",
    "        elif new_format==\"Farenheit\":\n",
    "            temp=(temp)*9/5+32\n",
    "        else:\n",
    "            return \"Wrong format\"\n",
    "    elif original_format==\"Farenheit\":\n",
    "        if new_format==\"Kelvin\":\n",
    "            temp=(temp-32)*5/9+273.15\n",
    "        elif new_format==\"Celsius\":\n",
    "            temp=(temp-32)*5/9\n",
    "            \n",
    "        else:\n",
    "            return \"Wrong format\"\n",
    "    return temp\n",
    "    \n",
    "problem_3(0,\"Farenheit\",\"Celsius\")"
   ]
  },
  {
   "cell_type": "code",
   "execution_count": 2,
   "id": "69d1134c",
   "metadata": {},
   "outputs": [
    {
     "data": {
      "text/plain": [
       "'1P:0 25C:2 10C:1 5C:1 1C:4'"
      ]
     },
     "execution_count": 2,
     "metadata": {},
     "output_type": "execute_result"
    }
   ],
   "source": [
    "def problem_4(amount):\n",
    "    conv=amount//100\n",
    "    conv2=(amount-conv*100)//25\n",
    "    conv3=(amount-conv*100-conv2*25)//10\n",
    "    conv4=(amount-conv*100-conv2*25-conv3*10)//5\n",
    "    conv5=(amount-conv*100-conv2*25-conv3*10-conv4*5)\n",
    "    return f\"1P:{conv} 25C:{conv2} 10C:{conv3} 5C:{conv4} 1C:{conv5}\"\n",
    "problem_4(69)\n",
    "    "
   ]
  },
  {
   "cell_type": "code",
   "execution_count": 14,
   "id": "64086604",
   "metadata": {},
   "outputs": [
    {
     "data": {
      "text/plain": [
       "'fdJK sfFJJ'"
      ]
     },
     "execution_count": 14,
     "metadata": {},
     "output_type": "execute_result"
    }
   ],
   "source": [
    "def problem_5(message):\n",
    "    letter=''\n",
    "    for i in message:\n",
    "        if ord(i)>=97:\n",
    "            letter+=chr(ord(i)-32)\n",
    "        elif ord(i)<97 and ord(i)>=65:\n",
    "            letter+=chr(ord(i)+32)\n",
    "        else:\n",
    "            letter+=\" \"\n",
    "    return letter\n",
    "problem_5(\"FDjk SFfjj\")"
   ]
  },
  {
   "cell_type": "code",
   "execution_count": null,
   "id": "ae3e9577",
   "metadata": {},
   "outputs": [],
   "source": [
    "\n",
    "        "
   ]
  },
  {
   "cell_type": "code",
   "execution_count": null,
   "id": "8bdcc477",
   "metadata": {},
   "outputs": [],
   "source": []
  },
  {
   "cell_type": "code",
   "execution_count": null,
   "id": "4aaa68ca",
   "metadata": {},
   "outputs": [],
   "source": []
  },
  {
   "cell_type": "code",
   "execution_count": null,
   "id": "6f599aba",
   "metadata": {},
   "outputs": [],
   "source": [
    "\n",
    "            "
   ]
  },
  {
   "cell_type": "code",
   "execution_count": null,
   "id": "06f7979f",
   "metadata": {},
   "outputs": [],
   "source": []
  },
  {
   "cell_type": "code",
   "execution_count": null,
   "id": "2e49e8fe",
   "metadata": {},
   "outputs": [],
   "source": []
  },
  {
   "cell_type": "code",
   "execution_count": null,
   "id": "b61925ef",
   "metadata": {},
   "outputs": [],
   "source": []
  },
  {
   "cell_type": "code",
   "execution_count": null,
   "id": "1fe6ce17",
   "metadata": {},
   "outputs": [],
   "source": []
  }
 ],
 "metadata": {
  "kernelspec": {
   "display_name": "Python 3",
   "language": "python",
   "name": "python3"
  },
  "language_info": {
   "codemirror_mode": {
    "name": "ipython",
    "version": 3
   },
   "file_extension": ".py",
   "mimetype": "text/x-python",
   "name": "python",
   "nbconvert_exporter": "python",
   "pygments_lexer": "ipython3",
   "version": "3.8.8"
  }
 },
 "nbformat": 4,
 "nbformat_minor": 5
}
