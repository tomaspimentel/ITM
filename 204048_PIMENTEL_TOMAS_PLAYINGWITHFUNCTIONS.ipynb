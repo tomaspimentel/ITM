{
 "cells": [
  {
   "cell_type": "code",
   "execution_count": 1,
   "id": "176fa8e6",
   "metadata": {},
   "outputs": [
    {
     "data": {
      "text/plain": [
       "120"
      ]
     },
     "execution_count": 1,
     "metadata": {},
     "output_type": "execute_result"
    }
   ],
   "source": [
    "def problem_1(number):\n",
    "    y=1\n",
    "    for x in range(1,number+1,1):\n",
    "        if x==0:\n",
    "            x=1\n",
    "            y=y*x\n",
    "        else:\n",
    "            y=y*x\n",
    "    return y\n",
    "problem_1(5)\n"
   ]
  },
  {
   "cell_type": "code",
   "execution_count": 2,
   "id": "d4921144",
   "metadata": {},
   "outputs": [
    {
     "name": "stdout",
     "output_type": "stream",
     "text": [
      "What is the passphrase?secret\n"
     ]
    },
    {
     "data": {
      "text/plain": [
       "1"
      ]
     },
     "execution_count": 2,
     "metadata": {},
     "output_type": "execute_result"
    }
   ],
   "source": [
    "def problem_2(passphrase):\n",
    "    wrong_counter=0\n",
    "    while wrong_counter<3:\n",
    "        guess=input(\"What is the passphrase?\")\n",
    "        if guess==passphrase:\n",
    "            return 1\n",
    "            break\n",
    "        else:\n",
    "            wrong_counter+=1\n",
    "    if wrong_counter==3:\n",
    "        return 0\n",
    "    else:\n",
    "        return\n",
    "\n",
    "problem_2(\"secret\")"
   ]
  },
  {
   "cell_type": "code",
   "execution_count": 1,
   "id": "aa917dc1",
   "metadata": {},
   "outputs": [
    {
     "data": {
      "text/plain": [
       "-17.77777777777778"
      ]
     },
     "execution_count": 1,
     "metadata": {},
     "output_type": "execute_result"
    }
   ],
   "source": [
    "def problem_3(temp,original_format,new_format):\n",
    "    if original_format==\"Kelvin\":\n",
    "        if new_format==\"Celsius\":\n",
    "            temp=temp-273.15\n",
    "            \n",
    "        elif new_format==\"Fahrenheit\":\n",
    "            temp=(temp-273.15)*9/5+32\n",
    "            \n",
    "        else:\n",
    "            return \"Wrong format\"\n",
    "    elif original_format==\"Celsius\":\n",
    "        if new_format==\"Kelvin\":\n",
    "            temp=temp+273.15\n",
    "        elif new_format==\"Fahrenheit\":\n",
    "            temp=(temp)*9/5+32\n",
    "        else:\n",
    "            return \"Wrong format\"\n",
    "    elif original_format==\"Fahrenheit\":\n",
    "        if new_format==\"Kelvin\":\n",
    "            temp=(temp-32)*5/9+273.15\n",
    "        elif new_format==\"Celsius\":\n",
    "            temp=(temp-32)*5/9\n",
    "            \n",
    "        else:\n",
    "            return \"Wrong format\"\n",
    "    return temp\n",
    "    \n",
    "problem_3(0,\"Fahrenheit\",\"Celsius\")"
   ]
  },
  {
   "cell_type": "code",
   "execution_count": 2,
   "id": "45d3a2e8",
   "metadata": {},
   "outputs": [
    {
     "data": {
      "text/plain": [
       "'1P:0/25C:2/10C:1/5C:1/1C:4'"
      ]
     },
     "execution_count": 2,
     "metadata": {},
     "output_type": "execute_result"
    }
   ],
   "source": [
    "def problem_4(amount):\n",
    "    conv=amount//100\n",
    "    conv2=(amount-conv*100)//25\n",
    "    conv3=(amount-conv*100-conv2*25)//10\n",
    "    conv4=(amount-conv*100-conv2*25-conv3*10)//5\n",
    "    conv5=(amount-conv*100-conv2*25-conv3*10-conv4*5)\n",
    "    return f\"1P:{conv}/25C:{conv2}/10C:{conv3}/5C:{conv4}/1C:{conv5}\"\n",
    "problem_4(69)"
   ]
  },
  {
   "cell_type": "code",
   "execution_count": 4,
   "id": "3c071556",
   "metadata": {},
   "outputs": [
    {
     "data": {
      "text/plain": [
       "'fdJK sfFJJ'"
      ]
     },
     "execution_count": 4,
     "metadata": {},
     "output_type": "execute_result"
    }
   ],
   "source": [
    "def problem_5(message):\n",
    "    letter=''\n",
    "    for i in message:\n",
    "        if ord(i)>=97:\n",
    "            letter+=chr(ord(i)-32)\n",
    "        elif ord(i)<97 and ord(i)>=65:\n",
    "            letter+=chr(ord(i)+32)\n",
    "        else:\n",
    "            letter+=\" \"\n",
    "    return letter\n",
    "problem_5(\"FDjk SFfjj\")"
   ]
  },
  {
   "cell_type": "code",
   "execution_count": null,
   "id": "cbfa4db2",
   "metadata": {},
   "outputs": [],
   "source": []
  }
 ],
 "metadata": {
  "kernelspec": {
   "display_name": "Python 3",
   "language": "python",
   "name": "python3"
  },
  "language_info": {
   "codemirror_mode": {
    "name": "ipython",
    "version": 3
   },
   "file_extension": ".py",
   "mimetype": "text/x-python",
   "name": "python",
   "nbconvert_exporter": "python",
   "pygments_lexer": "ipython3",
   "version": "3.8.8"
  }
 },
 "nbformat": 4,
 "nbformat_minor": 5
}
